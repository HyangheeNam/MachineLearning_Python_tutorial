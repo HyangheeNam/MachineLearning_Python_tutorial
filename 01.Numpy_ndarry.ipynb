{
 "cells": [
  {
   "cell_type": "markdown",
   "id": "96e5a886",
   "metadata": {},
   "source": [
    "<h1>Numpy<h1>\n",
    "\n",
    "\n",
    "<h3>1.1 ndarray</h3>"
   ]
  },
  {
   "cell_type": "code",
   "execution_count": 1,
   "id": "7fccec5f-c1e0-4e78-8fd9-4eff39bc74a5",
   "metadata": {},
   "outputs": [
    {
     "name": "stdout",
     "output_type": "stream",
     "text": [
      "array1 type: <class 'numpy.ndarray'>\n",
      "array1 array 형태: (3,)\n",
      "array2 type: <class 'numpy.ndarray'>\n",
      "array array 형태: (2, 3)\n",
      "array3 type: <class 'numpy.ndarray'>\n",
      "array3 array 형태: (1, 3)\n",
      "array1: 1차원, array2: 2 차원, array3:  2차원\n"
     ]
    }
   ],
   "source": [
    "import numpy as np\n",
    "\n",
    "array1 = np.array([1, 2, 3])\n",
    "print('array1 type:', type(array1))\n",
    "print('array1 array 형태:', array1.shape)\n",
    "\n",
    "array2 = np.array([ [1, 2, 3],\n",
    "                     [2, 3, 4] ])\n",
    "print('array2 type:', type(array2))\n",
    "print('array array 형태:', array2.shape)\n",
    "\n",
    "array3 = np.array([ [1, 2, 3] ])\n",
    "print('array3 type:', type(array3))\n",
    "print('array3 array 형태:', array3.shape)\n",
    "\n",
    "print('array1: {:0}차원, array2: {:1} 차원, array3: {:2}차원'.format(array1.ndim, array2.ndim, array3.ndim))"
   ]
  },
  {
   "cell_type": "markdown",
   "id": "05940198",
   "metadata": {},
   "source": [
    "<h3>1.2 dtype</h3>"
   ]
  },
  {
   "cell_type": "code",
   "execution_count": 2,
   "id": "2b11ed16-cdeb-43e1-b83b-efbe3db7d71e",
   "metadata": {},
   "outputs": [
    {
     "name": "stdout",
     "output_type": "stream",
     "text": [
      "<class 'list'>\n",
      "<class 'numpy.ndarray'>\n",
      "[1 2 3] int64\n",
      "['1' '2' 'test'] <U21\n",
      "[1. 2. 3.] float64\n"
     ]
    }
   ],
   "source": [
    "import numpy as np\n",
    "\n",
    "list1 = [1, 2, 3]\n",
    "print(type(list1))\n",
    "array1 = np.array(list1)\n",
    "print(type(array1))\n",
    "print(array1, array1.dtype)\n",
    "\n",
    "list2 = [1, 2, 'test']\n",
    "array2 = np.array(list2)\n",
    "print(array2, array2.dtype)\n",
    "\n",
    "list3 = [1, 2, 3.0]\n",
    "array3 = np.array(list3)\n",
    "print(array3, array3.dtype)"
   ]
  },
  {
   "cell_type": "markdown",
   "id": "f189083c",
   "metadata": {},
   "source": [
    "<h3>1.3 astype('string')</h3>"
   ]
  },
  {
   "cell_type": "code",
   "execution_count": 3,
   "id": "c300c801",
   "metadata": {},
   "outputs": [
    {
     "name": "stdout",
     "output_type": "stream",
     "text": [
      "[1. 2. 3.] float64\n",
      "[1 2 3] int32\n",
      "[1 2 3] int32\n"
     ]
    }
   ],
   "source": [
    "import numpy as np\n",
    "\n",
    "array_int = np.array([1, 2, 3])\n",
    "array_float = array_int.astype('float64')\n",
    "print(array_float, array_float.dtype)\n",
    "\n",
    "array_int1 = array_float.astype('int32')\n",
    "print(array_int1, array_int1.dtype)\n",
    "\n",
    "array_float1 = np.array([1.1, 2.1, 3.1])\n",
    "array_int2 = array_float1.astype('int32')\n",
    "print(array_int2, array_int2.dtype)"
   ]
  },
  {
   "cell_type": "markdown",
   "id": "50d9e9be",
   "metadata": {},
   "source": [
    "<h3>1.4 arange(), zeros(), ones()</h3>"
   ]
  },
  {
   "cell_type": "code",
   "execution_count": 4,
   "id": "6396178e",
   "metadata": {},
   "outputs": [
    {
     "name": "stdout",
     "output_type": "stream",
     "text": [
      "[0 1 2 3 4 5 6 7 8 9]\n",
      "int64 (10,)\n"
     ]
    }
   ],
   "source": [
    "import numpy as np\n",
    "\n",
    "sequence_array = np.arange(10)\n",
    "print(sequence_array)\n",
    "print(sequence_array.dtype, sequence_array.shape)"
   ]
  },
  {
   "cell_type": "code",
   "execution_count": 6,
   "id": "6f96b57c",
   "metadata": {},
   "outputs": [
    {
     "name": "stdout",
     "output_type": "stream",
     "text": [
      "[[0 0]\n",
      " [0 0]\n",
      " [0 0]]\n",
      "int32 (3, 2)\n",
      "[[1. 1.]\n",
      " [1. 1.]\n",
      " [1. 1.]]\n",
      "float64 (3, 2)\n"
     ]
    }
   ],
   "source": [
    "import numpy as np\n",
    "\n",
    "zero_array = np.zeros((3, 2), dtype='int32')\n",
    "print(zero_array)\n",
    "print(zero_array.dtype, zero_array.shape)\n",
    "\n",
    "one_array = np.ones((3,2))\n",
    "print(one_array)\n",
    "print(one_array.dtype, one_array.shape)"
   ]
  },
  {
   "cell_type": "markdown",
   "id": "d5789ba2",
   "metadata": {},
   "source": [
    "<h3>1.5 reshape()</h3>\n",
    "\n",
    "** reshape() Error<br>\n",
    "    - reshape()가 지정된 사이즈로 변경이 불가능 할 때 에러 발생"
   ]
  },
  {
   "cell_type": "code",
   "execution_count": null,
   "id": "42f39fc2",
   "metadata": {},
   "outputs": [
    {
     "name": "stdout",
     "output_type": "stream",
     "text": [
      "array1:\n",
      " [0 1 2 3 4 5 6 7 8 9]\n",
      "array2:\n",
      " [[0 1 2 3 4]\n",
      " [5 6 7 8 9]]\n",
      "array3:\n",
      " [[0 1]\n",
      " [2 3]\n",
      " [4 5]\n",
      " [6 7]\n",
      " [8 9]]\n"
     ]
    },
    {
     "ename": "ValueError",
     "evalue": "cannot reshape array of size 10 into shape (4,3)",
     "output_type": "error",
     "traceback": [
      "\u001b[0;31m---------------------------------------------------------------------------\u001b[0m",
      "\u001b[0;31mValueError\u001b[0m                                Traceback (most recent call last)",
      "Cell \u001b[0;32mIn[10], line 14\u001b[0m\n\u001b[1;32m     10\u001b[0m \u001b[38;5;28mprint\u001b[39m(\u001b[38;5;124m'\u001b[39m\u001b[38;5;124marray3:\u001b[39m\u001b[38;5;130;01m\\n\u001b[39;00m\u001b[38;5;124m'\u001b[39m, array3)\n\u001b[1;32m     12\u001b[0m \u001b[38;5;66;03m# --------- Error ---------\u001b[39;00m\n\u001b[0;32m---> 14\u001b[0m array1\u001b[38;5;241m.\u001b[39mreshape(\u001b[38;5;241m4\u001b[39m,\u001b[38;5;241m3\u001b[39m)\n",
      "\u001b[0;31mValueError\u001b[0m: cannot reshape array of size 10 into shape (4,3)"
     ]
    }
   ],
   "source": [
    "import numpy as np\n",
    "\n",
    "array1 = np.arange(10)\n",
    "print('array1:\\n', array1)\n",
    "\n",
    "array2 = array1.reshape(2,5)\n",
    "print('array2:\\n', array2)\n",
    "\n",
    "array3 = array1.reshape(5,2)\n",
    "print('array3:\\n', array3)\n",
    "\n",
    "# --------- Value Error ---------\n",
    "\n",
    "array1.reshape(4,3)"
   ]
  },
  {
   "cell_type": "markdown",
   "id": "5019f69d",
   "metadata": {},
   "source": [
    "<h4>1.5.1 reshape example (-1)값 적용</h4>\n",
    "\n",
    "[result]\n",
    "\n",
    "array1 : 1차원 ndarray, 0~9의 데이터<br>\n",
    "\n",
    "array2 : row(-1), column(5)<br>\n",
    "&nbsp;&nbsp;&nbsp;&nbsp;&nbsp;&nbsp;&nbsp;&nbsp;&nbsp;&nbsp;&nbsp;&nbsp;&nbsp;- array1과 호환 가능한 2차원 ndarray로 변환<br>\n",
    "&nbsp;&nbsp;&nbsp;&nbsp;&nbsp;&nbsp;&nbsp;&nbsp;&nbsp;&nbsp;&nbsp;&nbsp;&nbsp;- array1의 데이터를 column에 맞게 row를 변경<br>\n",
    "&nbsp;&nbsp;&nbsp;&nbsp;&nbsp;&nbsp;&nbsp;&nbsp;&nbsp;&nbsp;&nbsp;&nbsp;&nbsp;- 2x5형태로 변경\n",
    "\n",
    "array3 : 5x2 형태로 변경"
   ]
  },
  {
   "cell_type": "code",
   "execution_count": 12,
   "id": "8b23e32e",
   "metadata": {},
   "outputs": [
    {
     "name": "stdout",
     "output_type": "stream",
     "text": [
      "[0 1 2 3 4 5 6 7 8 9]\n",
      "array2 shape: (2, 5)\n",
      "array3 shape: (5, 2)\n"
     ]
    },
    {
     "ename": "ValueError",
     "evalue": "cannot reshape array of size 10 into shape (4)",
     "output_type": "error",
     "traceback": [
      "\u001b[0;31m---------------------------------------------------------------------------\u001b[0m",
      "\u001b[0;31mValueError\u001b[0m                                Traceback (most recent call last)",
      "Cell \u001b[0;32mIn[12], line 14\u001b[0m\n\u001b[1;32m     12\u001b[0m \u001b[38;5;66;03m# ------- reshape() Error -------\u001b[39;00m\n\u001b[1;32m     13\u001b[0m array1 \u001b[38;5;241m=\u001b[39m np\u001b[38;5;241m.\u001b[39marange(\u001b[38;5;241m10\u001b[39m)\n\u001b[0;32m---> 14\u001b[0m array4 \u001b[38;5;241m=\u001b[39m array1\u001b[38;5;241m.\u001b[39mreshape(\u001b[38;5;241m-\u001b[39m\u001b[38;5;241m1\u001b[39m, \u001b[38;5;241m4\u001b[39m)\n",
      "\u001b[0;31mValueError\u001b[0m: cannot reshape array of size 10 into shape (4)"
     ]
    }
   ],
   "source": [
    "import numpy as np\n",
    "\n",
    "array1 = np.arange(10)\n",
    "print(array1)\n",
    "\n",
    "array2 = array1.reshape(-1, 5)\n",
    "print('array2 shape:', array2.shape)\n",
    "\n",
    "array3 = array1.reshape(5, -1)\n",
    "print('array3 shape:', array3.shape)\n",
    "\n",
    "# ------- reshape() Error -------\n",
    "array1 = np.arange(10)\n",
    "array4 = array1.reshape(-1, 4)"
   ]
  },
  {
   "cell_type": "markdown",
   "id": "e2b8cd45",
   "metadata": {},
   "source": [
    "** reshape(-1, 1)<br>\n",
    "&nbsp;&nbsp;&nbsp;&nbsp;&nbsp;&nbsp; - 원본 ndarray은 2차원으로, 여러개의 row를 가지되 반드시 1개의 column을 가진 ndarray로 변환<br>\n",
    "&nbsp;&nbsp;&nbsp;&nbsp;&nbsp;&nbsp; - 여러개의 numpy ndarray는 stack이나 concat으로 결합될 때 ndarray의 형태를 통일해 사용"
   ]
  },
  {
   "cell_type": "markdown",
   "id": "5d82e961",
   "metadata": {},
   "source": [
    "<h4>1.5.2 tolist()</h4>\n",
    " - 리스트 자료형으로 변환 (시각적으로 이해하기 쉬움)"
   ]
  },
  {
   "cell_type": "code",
   "execution_count": null,
   "id": "1092addb",
   "metadata": {},
   "outputs": [
    {
     "name": "stdout",
     "output_type": "stream",
     "text": [
      "array3d:\n",
      " [[[0, 1], [2, 3]], [[4, 5], [6, 7]]]\n",
      "array5:\n",
      " [[0], [1], [2], [3], [4], [5], [6], [7]]\n",
      "array5 shape: (8, 1)\n",
      "array6:\n",
      " [[0], [1], [2], [3], [4], [5], [6], [7]]\n",
      "array6 shape: (8, 1)\n"
     ]
    }
   ],
   "source": [
    "import numpy as np\n",
    "\n",
    "array1 = np.arange(8)\n",
    "array3d = array1.reshape((2, 2, 2)) \n",
    "print('array3d:\\n', array3d.tolist())\n",
    "\n",
    "# 3차원 ndarray를 2차원 ndarray로 변환\n",
    "array5 = array3d.reshape(-1, 1)\n",
    "print('array5:\\n', array5.tolist())\n",
    "print('array5 shape:', array5.shape)\n",
    "\n",
    "# 1차원 ndarray를 2차원 ndarray로 변환\n",
    "array6 = array1.reshape(-1, 1)\n",
    "print('array6:\\n', array6.tolist())\n",
    "print('array6 shape:', array6.shape)"
   ]
  },
  {
   "cell_type": "markdown",
   "id": "9d085199",
   "metadata": {},
   "source": [
    "<h3>1.6 Indexing</h3>\n",
    "\n",
    "1) 특정 데이터만 추출 : 지정된 인덱스 값의 데이터 반환\n",
    "\n",
    "2) slicing : 연속된 index상의 ndarray를 추출하는 방식<br>\n",
    "&nbsp;&nbsp;&nbsp;&nbsp;&nbsp;&nbsp;&nbsp;&nbsp;&nbsp;&nbsp;&nbsp;&nbsp;&nbsp;- ':' 기호 사이에 시작 인덱스와 종료 인덱스를 표시<br>\n",
    "&nbsp;&nbsp;&nbsp;&nbsp;&nbsp;&nbsp;&nbsp;&nbsp;&nbsp;&nbsp;&nbsp;&nbsp;&nbsp;- 시작 인덱스에서 종료 인덱스 -1에 위치한 ndarray 반환<br>\n",
    "&nbsp;&nbsp;&nbsp;&nbsp;&nbsp;&nbsp;&nbsp;&nbsp;&nbsp;&nbsp;&nbsp;&nbsp;&nbsp;- ex) 1:5 라면 시작 인덱스 1 부터 종료 인덱스 4까지의 ndarray 반환\n",
    "\n",
    "3) Fancy Indexing : 일정한 인덱싱 집합을 리스트 또는 ndarray 형태로 지정해 해당 위치에 존재하는 ndarray 반환\n",
    "\n",
    "4) Boolean Indexing : True/False값 인덱싱 집합을 기반으로 Truew에 해당하는 ndarray 반환"
   ]
  },
  {
   "cell_type": "markdown",
   "id": "05057e5b",
   "metadata": {},
   "source": [
    "<h4>1.6.1 단일 값 추출</h4>\n",
    "\n",
    "- ndarray 객체에 해당하는 위치의 index값을 [] 안에 기입<br>\n",
    "\n",
    "- 인덱스에 마이너스 기호 입력시 맨 뒤에서 부터 데이터 추출 가능\n"
   ]
  },
  {
   "cell_type": "code",
   "execution_count": null,
   "id": "6533fe76",
   "metadata": {},
   "outputs": [
    {
     "name": "stdout",
     "output_type": "stream",
     "text": [
      "array1: [1 2 3 4 5 6 7 8 9]\n",
      "value: 3\n",
      "<class 'numpy.int64'>\n",
      "맨 뒤의 값: 9 맨 뒤에서 2번째 값: 8\n"
     ]
    }
   ],
   "source": [
    "import numpy as np\n",
    "\n",
    "# 1~9까지의 1차원 ndarray\n",
    "array1 = np.arange(start=1, stop=10)\n",
    "print('array1:', array1)\n",
    "\n",
    "# index는 0부터 시작 / array1[2]는 index(3)을 의미\n",
    "value = array1[2]\n",
    "print('value:', value)\n",
    "print(type(value))\n",
    "\n",
    "# 마이너스 기호 사용\n",
    "print('맨 뒤의 값:', array1[-1], '맨 뒤에서 2번째 값:', array1[-2])"
   ]
  },
  {
   "cell_type": "markdown",
   "id": "21a23a98",
   "metadata": {},
   "source": [
    "<h5>(1) 단일 인덱스를 이용한 ndarray 내 데이터 수정</h5>"
   ]
  },
  {
   "cell_type": "code",
   "execution_count": 16,
   "id": "f8d717df",
   "metadata": {},
   "outputs": [
    {
     "name": "stdout",
     "output_type": "stream",
     "text": [
      "array1: [9 2 3 4 5 6 7 8 0]\n"
     ]
    }
   ],
   "source": [
    "array1[0] = 9\n",
    "array1[8] = 0\n",
    "print('array1:', array1)"
   ]
  },
  {
   "cell_type": "markdown",
   "id": "cdb24387",
   "metadata": {},
   "source": [
    "<h5>(2) 다차원 ndarray에서 단일 값 추출</h5>\n",
    "\n",
    "- 2차원의 경우 (,) 콤마로 분리된 row와 column 위치의 인덱스를 통해 접급\n",
    "- 2차원과 3차원에서의 단일 값 추출 방법이 비슷\n",
    "\n",
    "&nbsp;&nbsp;&nbsp;&nbsp;&nbsp;&nbsp;** axis0 = row0<br>\n",
    "&nbsp;&nbsp;&nbsp;&nbsp;&nbsp;&nbsp;** axis1 = column0<br>"
   ]
  },
  {
   "cell_type": "code",
   "execution_count": 17,
   "id": "3deddda1",
   "metadata": {},
   "outputs": [
    {
     "name": "stdout",
     "output_type": "stream",
     "text": [
      "[[1 2 3]\n",
      " [4 5 6]\n",
      " [7 8 9]]\n",
      "(row=0, col=0) index 가리키는 값: 1\n",
      "(row=0, col=1) index 가리키는 값: 2\n",
      "(row=1, col=0) index 가리키는 값: 4\n",
      "(row=2, col=2) index 가리키는 값: 9\n"
     ]
    }
   ],
   "source": [
    "import numpy as np\n",
    "\n",
    "array1d = np.arange(start=1, stop=10)\n",
    "array2d = array1d.reshape(3, 3)\n",
    "print(array2d)\n",
    "\n",
    "print('(row=0, col=0) index 가리키는 값:', array2d[0,0])\n",
    "print('(row=0, col=1) index 가리키는 값:', array2d[0,1])\n",
    "print('(row=1, col=0) index 가리키는 값:', array2d[1,0])\n",
    "print('(row=2, col=2) index 가리키는 값:', array2d[2,2])"
   ]
  },
  {
   "cell_type": "markdown",
   "id": "ccc57448",
   "metadata": {},
   "source": [
    "<h4>1.6.2 Slicing</h4>\n",
    "&nbsp;&nbsp;&nbsp;&nbsp;&nbsp;&nbsp;- ':' 기호를 아용해 연속되는 데이터를 슬라이싱해 추출<br>\n",
    "&nbsp;&nbsp;&nbsp;&nbsp;&nbsp;&nbsp;- ndarray 타입<br>\n",
    "&nbsp;&nbsp;&nbsp;&nbsp;&nbsp;&nbsp;- 형태 : [시작인덱스 : 종료인덱스]<br>"
   ]
  },
  {
   "cell_type": "code",
   "execution_count": 1,
   "id": "b96fa81b",
   "metadata": {},
   "outputs": [
    {
     "name": "stdout",
     "output_type": "stream",
     "text": [
      "[1 2 3]\n",
      "<class 'numpy.ndarray'>\n"
     ]
    }
   ],
   "source": [
    "import numpy as np\n",
    "\n",
    "array1 = np.arange(start=1, stop=10)\n",
    "array3 = array1[0:3]\n",
    "print(array3)\n",
    "print(type(array3))"
   ]
  },
  {
   "cell_type": "markdown",
   "id": "a08f2f8d",
   "metadata": {},
   "source": [
    "** 슬라이싱 기호 생략\n",
    "\n",
    "(1) ':' 기호 앞에 시작 인덱스 생략 => 처음 인덱스 0으로 간주<br>\n",
    "(2) ':' 기호 뒤에 종료 인덱스 생략 => 맨 뒤 인덱스를 간주<br>\n",
    "(3) ':' 기호 앞, 뒤에 시작, 종료 인덱스 생략 => 맨 처음과 끝 인덱스 간주<br>"
   ]
  },
  {
   "cell_type": "code",
   "execution_count": 1,
   "id": "f16bd4c6",
   "metadata": {},
   "outputs": [
    {
     "name": "stdout",
     "output_type": "stream",
     "text": [
      "[1 2 3]\n",
      "[4 5 6 7 8 9]\n",
      "[1 2 3 4 5 6 7 8 9]\n"
     ]
    }
   ],
   "source": [
    "import numpy as np\n",
    "array1 = np.arange(start=1, stop=10)\n",
    "# [:3] - 0부터 3번 인덱스 전 까지 추출\n",
    "array4 = array1[:3] \n",
    "print(array4)\n",
    "\n",
    "# 3번 인덱스 부터 추출\n",
    "array5 = array1[3:]\n",
    "print(array5)\n",
    "\n",
    "array6 = array1[:]\n",
    "print(array6)"
   ]
  },
  {
   "cell_type": "markdown",
   "id": "3cf9703d",
   "metadata": {},
   "source": [
    "** 2차원 ndarray의 슬라이싱\n",
    " - (,) 콤마 row와 column 인덱스를 나눔"
   ]
  },
  {
   "cell_type": "code",
   "execution_count": 3,
   "id": "6975996d",
   "metadata": {},
   "outputs": [
    {
     "name": "stdout",
     "output_type": "stream",
     "text": [
      "array2d:\n",
      " [[1 2 3]\n",
      " [4 5 6]\n",
      " [7 8 9]]\n",
      "array2d[0:2, 0:2]\n",
      " [[1 2]\n",
      " [4 5]]\n",
      "array2d[1:3, 0:3]\n",
      " [[4 5 6]\n",
      " [7 8 9]]\n",
      "array2d[1:3, :]\n",
      " [[4 5 6]\n",
      " [7 8 9]]\n",
      "array2d[:, :]\n",
      " [[1 2 3]\n",
      " [4 5 6]\n",
      " [7 8 9]]\n",
      "array2d[:2, 1:]\n",
      " [[2 3]\n",
      " [5 6]]\n",
      "array2d[:2, 0]\n",
      " [1 4]\n"
     ]
    }
   ],
   "source": [
    "import numpy as np\n",
    "array1d = np.arange(start=1, stop=10)\n",
    "array2d = array1d.reshape(3, 3)\n",
    "print('array2d:\\n', array2d)\n",
    "\n",
    "print('array2d[0:2, 0:2]\\n', array2d[0:2, 0:2])\n",
    "print('array2d[1:3, 0:3]\\n', array2d[1:3, 0:3])\n",
    "print('array2d[1:3, :]\\n', array2d[1:3, 0:3])\n",
    "print('array2d[:, :]\\n', array2d[:, :])\n",
    "print('array2d[:2, 1:]\\n', array2d[:2, 1:])\n",
    "print('array2d[:2, 0]\\n', array2d[:2, 0])\n"
   ]
  },
  {
   "cell_type": "markdown",
   "id": "aea3be99",
   "metadata": {},
   "source": [
    "** 2차원 ndarray에서 뒤에 오는 인덱스를 생략하면 1차원 ndarray를 반환<br>\n",
    "\n",
    "&nbsp;&nbsp;&nbsp;- 반환값 : row축(axis0)의 첫번째 row ndarray반환"
   ]
  },
  {
   "cell_type": "code",
   "execution_count": 5,
   "id": "9cd0ba0d",
   "metadata": {},
   "outputs": [
    {
     "name": "stdout",
     "output_type": "stream",
     "text": [
      "[1 2 3]\n",
      "[4 5 6]\n",
      "array2d[0] shape: (3,) array2d[1] shap: (3,)\n"
     ]
    }
   ],
   "source": [
    "import numpy as np\n",
    "array1d = np.arange(start=1, stop=10)\n",
    "array2d = array1d.reshape(3, 3)\n",
    "\n",
    "print(array2d[0])\n",
    "print(array2d[1])\n",
    "print('array2d[0] shape:', array2d[0].shape, 'array2d[1] shap:', array2d[1].shape)"
   ]
  },
  {
   "cell_type": "markdown",
   "id": "8d3dc0fc",
   "metadata": {},
   "source": [
    "<h4>1.6.3 Fancing Indexing</h4>\n",
    "\n",
    "- 리스트나 ndarray로 인덱스 집합 지정 시, 해당 위치의 ndarray 반환"
   ]
  },
  {
   "cell_type": "code",
   "execution_count": 7,
   "id": "92d488f0",
   "metadata": {},
   "outputs": [
    {
     "name": "stdout",
     "output_type": "stream",
     "text": [
      "array2d[ [0, 1], 2] => [3, 6]\n",
      "array2d[ [0, 1], 0:2] => [[1, 2], [4, 5]]\n",
      "array2d[ [0, 1] ] => [[1, 2, 3], [4, 5, 6]]\n"
     ]
    }
   ],
   "source": [
    "import numpy as np\n",
    "\n",
    "array1d = np.arange(start=1, stop=10)\n",
    "array2d = array1d.reshape(3,3)\n",
    "\n",
    "array3 = array2d[ [0, 1], 2 ]\n",
    "print('array2d[ [0, 1], 2] =>', array3.tolist())\n",
    "\n",
    "array4 = array2d[ [0, 1], 0:2 ]\n",
    "print('array2d[ [0, 1], 0:2] =>', array4.tolist())\n",
    "\n",
    "array5 = array2d[ [0, 1] ]\n",
    "print('array2d[ [0, 1] ] =>', array5.tolist())\n",
    "\n"
   ]
  },
  {
   "cell_type": "markdown",
   "id": "4d2140f8",
   "metadata": {},
   "source": [
    "<h4>1.6.4 Boolean Indexing</h4>\n",
    "\n",
    "- 조건 필링과 검색을 동시에 사용할 수 있음\n",
    "- 간단하게 사용 가능\n",
    "- ndarray의 인덱스를 지정하는 [] 안에 조건문을 그대로 기재"
   ]
  },
  {
   "cell_type": "code",
   "execution_count": 4,
   "id": "2bdb8416",
   "metadata": {},
   "outputs": [
    {
     "name": "stdout",
     "output_type": "stream",
     "text": [
      "array1d > 5 불린 인덱싱 결과 값: [6 7 8 9]\n",
      "--------------------------------------------\n",
      "[False False False False False  True  True  True  True]\n"
     ]
    }
   ],
   "source": [
    "import numpy as np\n",
    "# 조건: 데이터가 5보다 큰 수 출력\n",
    "# []안에 array1d > 5 Boolean Indexing 적용\n",
    "array1d = np.arange(start=1, stop=10)\n",
    "\n",
    "array3 = array1d[array1d > 5]\n",
    "print('array1d > 5 불린 인덱싱 결과 값:', array3)\n",
    "\n",
    "print('--------------------------------------------')\n",
    "\n",
    "print(array1d > 5)"
   ]
  },
  {
   "cell_type": "markdown",
   "id": "de8af9eb",
   "metadata": {},
   "source": [
    "<h5>(1) Boolean Index Filtering</h5>\n",
    "\n",
    "- 위와 동일한 Boolean ndarray를 생성한 후 array1d[] 안에 인덱스로 입력 시"
   ]
  },
  {
   "cell_type": "code",
   "execution_count": 6,
   "id": "fde62ec0",
   "metadata": {},
   "outputs": [
    {
     "name": "stdout",
     "output_type": "stream",
     "text": [
      "Filtered result (Boolean indexing): [6 7 8 9]\n"
     ]
    }
   ],
   "source": [
    "import numpy as np\n",
    "\n",
    "array1d = np.arange(start=1, stop=10)\n",
    "boolean_indexes = np.array([False, False, False, False, False, True, True, True, True])\n",
    "array3 = array1d[boolean_indexes]\n",
    "\n",
    "print('Filtered result (Boolean indexing):', array3)"
   ]
  },
  {
   "cell_type": "markdown",
   "id": "26a62e84",
   "metadata": {},
   "source": [
    "** 직접 인덱스 집합을 만들어 대입했을 경우"
   ]
  },
  {
   "cell_type": "code",
   "execution_count": 7,
   "id": "6a703102",
   "metadata": {},
   "outputs": [
    {
     "name": "stdout",
     "output_type": "stream",
     "text": [
      "일반 인덱스로 필터링한 결과 : [6 7 8 9]\n"
     ]
    }
   ],
   "source": [
    "import numpy as np\n",
    "\n",
    "indexes = np.array([5, 6, 7, 8])\n",
    "array4 = array1d[indexes]\n",
    "print('일반 인덱스로 필터링한 결과 :', array4)"
   ]
  },
  {
   "cell_type": "markdown",
   "id": "325194dd",
   "metadata": {},
   "source": [
    "<h5>(2) Boolean Indexing 동작 스텝</h5>\n",
    "\n",
    "- 1) array1d > 5 와 같이 필터링 조건을 []에 기재\n",
    "- 2) False값은 무시하고 True값에 해당하는 인덱스값만 저장<br>\n",
    "&nbsp;&nbsp;&nbsp;&nbsp;** 유의: True값 자체인 1을 지정하는 것이 아닌 True값을 가진 Index를 저장\n",
    "- 3) 저장된 인덱스 데이터 세트로 ndarray 조회"
   ]
  },
  {
   "cell_type": "markdown",
   "id": "6a0be7c8",
   "metadata": {},
   "source": [
    "<h4></h4>"
   ]
  },
  {
   "cell_type": "markdown",
   "id": "1338eb4f",
   "metadata": {},
   "source": [
    "<h3>1.7 sort() & argsort()</h3><br>\n",
    "- 행열을 정렬하는 방법 : np.sort(), ndarray.sort()<br>\n",
    "- 정렬된 행열의 인덱스 반환 방법: argsort()"
   ]
  },
  {
   "cell_type": "markdown",
   "id": "3610391e",
   "metadata": {},
   "source": [
    "<h4>1.7.1 행렬 정렬</h4>\n",
    "- np.sort() : 원 행렬은 유지한 채 원 행렬에서 정렬된 행렬을 반환<br>\n",
    "- ndarray.sort() : 원 행렬 자체를 정렬, 반환값 = None"
   ]
  },
  {
   "cell_type": "code",
   "execution_count": 10,
   "id": "ecf7fe06",
   "metadata": {},
   "outputs": [
    {
     "name": "stdout",
     "output_type": "stream",
     "text": [
      "원본 행렬: [3 1 9 5]\n",
      "np.sort() 호출 후 반환된 정렬 행렬: [1 3 5 9]\n",
      "np.sort() 호출 후 원본 행렬: [3 1 9 5]\n",
      "--------------------------------------\n",
      "org_array.sort() 호출 후 반환된 행렬: None\n",
      "org_array.sort() 호출 후 원본 행렬: [1 3 5 9]\n"
     ]
    }
   ],
   "source": [
    "import numpy as np\n",
    "\n",
    "org_array = np.array([3, 1, 9, 5])\n",
    "print('원본 행렬:', org_array)\n",
    "\n",
    "# np.sort()로 정렬\n",
    "sort_array1 = np.sort(org_array)\n",
    "print('np.sort() 호출 후 반환된 정렬 행렬:', sort_array1)\n",
    "print('np.sort() 호출 후 원본 행렬:', org_array)\n",
    "\n",
    "print('--------------------------------------')\n",
    "\n",
    "# ndarray.sort()로 정렬\n",
    "sort_array2 = org_array.sort()\n",
    "print('org_array.sort() 호출 후 반환된 행렬:', sort_array2)\n",
    "print('org_array.sort() 호출 후 원본 행렬:', org_array)"
   ]
  }
 ],
 "metadata": {
  "kernelspec": {
   "display_name": "base",
   "language": "python",
   "name": "python3"
  },
  "language_info": {
   "codemirror_mode": {
    "name": "ipython",
    "version": 3
   },
   "file_extension": ".py",
   "mimetype": "text/x-python",
   "name": "python",
   "nbconvert_exporter": "python",
   "pygments_lexer": "ipython3",
   "version": "3.12.7"
  }
 },
 "nbformat": 4,
 "nbformat_minor": 5
}
