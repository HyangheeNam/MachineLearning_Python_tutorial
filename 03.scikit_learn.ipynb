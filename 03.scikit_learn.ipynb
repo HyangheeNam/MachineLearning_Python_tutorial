{
 "cells": [
  {
   "cell_type": "markdown",
   "id": "6d7e48d6",
   "metadata": {},
   "source": [
    "<h1>scikit-learn</h1>\n",
    "- 프레임워크, API제공"
   ]
  },
  {
   "cell_type": "markdown",
   "id": "99e04f8a",
   "metadata": {},
   "source": [
    "<h3>3.1 분류 (Classification)</h3>\n",
    "- 지도학습(Aupervised learning) 방법 중 하나\n",
    "\n",
    "<h5>** 지도학습</h5>\n",
    "\n",
    "- 다양한 피처와 분류 결정값인 레이블(Lable) 데이터로 모델을 한습한 후, 별도의 테스트 데이터 세트에서 미지의 레이블을 예측<br>\n",
    "\n",
    "- 먕확한 정답이 주어진 데이터 先학습， 後 미지의 정답 예측"
   ]
  },
  {
   "cell_type": "markdown",
   "id": "73ba7769",
   "metadata": {},
   "source": [
    "<h5>사이킷런 모듈</h5>\n",
    "\n",
    "(1) sklearn.datasets\n",
    "- 사이킷런 자체 제공 데이터 세트 생성 모듈\n",
    "\n",
    "(2) sklearn.tree\n",
    "- 트리기반 ML 알고리즘\n",
    "\n",
    "(3) sklearn.model_selection\n",
    "- 학습 데이터, 검증 데이터 통칭\n",
    "- 하이퍼 파라미터를 통해 머신러닝 알고리즘의 성능 튜닝"
   ]
  },
  {
   "cell_type": "code",
   "execution_count": null,
   "id": "f69cef40",
   "metadata": {},
   "outputs": [
    {
     "name": "stdout",
     "output_type": "stream",
     "text": [
      "iris target값: [0 0 0 0 0 0 0 0 0 0 0 0 0 0 0 0 0 0 0 0 0 0 0 0 0 0 0 0 0 0 0 0 0 0 0 0 0\n",
      " 0 0 0 0 0 0 0 0 0 0 0 0 0 1 1 1 1 1 1 1 1 1 1 1 1 1 1 1 1 1 1 1 1 1 1 1 1\n",
      " 1 1 1 1 1 1 1 1 1 1 1 1 1 1 1 1 1 1 1 1 1 1 1 1 1 1 2 2 2 2 2 2 2 2 2 2 2\n",
      " 2 2 2 2 2 2 2 2 2 2 2 2 2 2 2 2 2 2 2 2 2 2 2 2 2 2 2 2 2 2 2 2 2 2 2 2 2\n",
      " 2 2]\n",
      "iris target명: ['setosa' 'versicolor' 'virginica']\n"
     ]
    },
    {
     "data": {
      "text/html": [
       "<div>\n",
       "<style scoped>\n",
       "    .dataframe tbody tr th:only-of-type {\n",
       "        vertical-align: middle;\n",
       "    }\n",
       "\n",
       "    .dataframe tbody tr th {\n",
       "        vertical-align: top;\n",
       "    }\n",
       "\n",
       "    .dataframe thead th {\n",
       "        text-align: right;\n",
       "    }\n",
       "</style>\n",
       "<table border=\"1\" class=\"dataframe\">\n",
       "  <thead>\n",
       "    <tr style=\"text-align: right;\">\n",
       "      <th></th>\n",
       "      <th>sepal length (cm)</th>\n",
       "      <th>sepal width (cm)</th>\n",
       "      <th>petal length (cm)</th>\n",
       "      <th>petal width (cm)</th>\n",
       "      <th>label</th>\n",
       "    </tr>\n",
       "  </thead>\n",
       "  <tbody>\n",
       "    <tr>\n",
       "      <th>0</th>\n",
       "      <td>5.1</td>\n",
       "      <td>3.5</td>\n",
       "      <td>1.4</td>\n",
       "      <td>0.2</td>\n",
       "      <td>0</td>\n",
       "    </tr>\n",
       "    <tr>\n",
       "      <th>1</th>\n",
       "      <td>4.9</td>\n",
       "      <td>3.0</td>\n",
       "      <td>1.4</td>\n",
       "      <td>0.2</td>\n",
       "      <td>0</td>\n",
       "    </tr>\n",
       "    <tr>\n",
       "      <th>2</th>\n",
       "      <td>4.7</td>\n",
       "      <td>3.2</td>\n",
       "      <td>1.3</td>\n",
       "      <td>0.2</td>\n",
       "      <td>0</td>\n",
       "    </tr>\n",
       "  </tbody>\n",
       "</table>\n",
       "</div>"
      ],
      "text/plain": [
       "   sepal length (cm)  sepal width (cm)  petal length (cm)  petal width (cm)  \\\n",
       "0                5.1               3.5                1.4               0.2   \n",
       "1                4.9               3.0                1.4               0.2   \n",
       "2                4.7               3.2                1.3               0.2   \n",
       "\n",
       "   label  \n",
       "0      0  \n",
       "1      0  \n",
       "2      0  "
      ]
     },
     "execution_count": 5,
     "metadata": {},
     "output_type": "execute_result"
    }
   ],
   "source": [
    "from sklearn.datasets import load_iris\n",
    "from sklearn.tree import DecisionTreeClassifier\n",
    "from sklearn.model_selection import train_test_split\n",
    "\n",
    "import pandas as pd\n",
    "\n",
    "# 붓꽃 데이터 세트 로딩\n",
    "iris = load_iris()\n",
    "\n",
    "# iris_data : 붓꽃 데이터 세트에서 feature만으로 된 데이터를 numpy로 가지고 있음\n",
    "iris_data = iris.data\n",
    "\n",
    "# iris_label : 붓꽃 데이터 세트에서 label(결정 값) 데이터를 numpy로 가지고 있음\n",
    "iris_label = iris.target\n",
    "print('iris target값:', iris_label)\n",
    "print('iris target명:', iris.target_names)\n",
    "\n",
    "iris_df = pd.DataFrame(data=iris_data, columns=iris.feature_names)\n",
    "iris_df['label'] = iris_label\n",
    "iris_df.head(3)\n"
   ]
  },
  {
   "cell_type": "markdown",
   "id": "1b66e383",
   "metadata": {},
   "source": [
    "<h5>▲ Result </h5>\n",
    "\n",
    "(1) feature\n",
    "- sepal length\n",
    "- sepal width\n",
    "- petal length\n",
    "- petal width\n",
    "\n",
    "(2) label\n",
    "- 0 : Setosa 품종\n",
    "- 1 : versicolor 품종\n",
    "- 2 : verginica 품종"
   ]
  },
  {
   "cell_type": "markdown",
   "id": "3aef85df",
   "metadata": {},
   "source": [
    "<h4>학습용 데이터 및 테스트용 데이토 분리</h4>\n",
    "\n",
    "- 학습 데이터로 학습된 모델의 성능 평가를 위해 테스트 데이터 세트 필요\n",
    "- train_test_split()\n"
   ]
  },
  {
   "cell_type": "code",
   "execution_count": null,
   "id": "74926a7d",
   "metadata": {},
   "outputs": [],
   "source": [
    "from sklearn.datasets import load_iris\n",
    "from sklearn.tree import DecisionTreeClassifier\n",
    "from sklearn.model_selection import train_test_split\n",
    "\n",
    "import pandas as pd\n",
    "\n",
    "# 붓꽃 데이터 세트 로딩\n",
    "iris = load_iris()\n",
    "\n",
    "# iris_data : 붓꽃 데이터 세트에서 feature만으로 된 데이터를 numpy로 가지고 있음\n",
    "iris_data = iris.data\n",
    "\n",
    "# iris_label : 붓꽃 데이터 세트에서 label(결정 값) 데이터를 numpy로 가지고 있음\n",
    "iris_label = iris.target\n",
    "print('iris target값:', iris_label)\n",
    "print('iris target명:', iris.target_names)\n",
    "\n",
    "iris_df = pd.DataFrame(data=iris_data, columns=iris.feature_names)\n",
    "iris_df['label'] = iris_label\n",
    "\n",
    "x_train, x_test, y_train, y_test = \n",
    "\n"
   ]
  }
 ],
 "metadata": {
  "kernelspec": {
   "display_name": "base",
   "language": "python",
   "name": "python3"
  },
  "language_info": {
   "codemirror_mode": {
    "name": "ipython",
    "version": 3
   },
   "file_extension": ".py",
   "mimetype": "text/x-python",
   "name": "python",
   "nbconvert_exporter": "python",
   "pygments_lexer": "ipython3",
   "version": "3.12.7"
  }
 },
 "nbformat": 4,
 "nbformat_minor": 5
}
