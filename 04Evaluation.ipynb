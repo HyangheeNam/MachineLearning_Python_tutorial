{
 "cells": [
  {
   "cell_type": "markdown",
   "id": "08682f2c",
   "metadata": {},
   "source": [
    "<h1>Evaluation<h1>\n",
    "\n",
    "<h5>분류의 성능 평가 지표</h5>\n",
    "\n",
    "- 정확표(Accuracy)\n",
    "- 오차행렬(Confusion Matrix)\n",
    "- 정밀도(Precision)\n",
    "- 재현율(Recall)\n",
    "- F1 스코어\n",
    "- ROC AUC\n",
    "\n",
    "<br><br>\n",
    "\n",
    "<h3>4.1 정확도(Accuracy)</h3>\n",
    "<br><br>\n",
    "\n",
    "$$\n",
    "정확도(Accuracy) = \\frac{예측 결과가 동일한 데이터 건수}{\\text{전체 예측 데이터 건수}}\n",
    "$$\n",
    "\n",
    "<br><br>\n",
    "\n",
    "- 직관적으로 모델 예측 성능 평가 지표<br>\n",
    "    -> 실제 데이터에서 예측 데이터가 얼마나 같은지 판단하는 지표<br>\n",
    "    \n",
    "- 구성에 따라 ML 모델의 성능을 왜곡할 수 있으므로 정확도만 가지고 성능을 평가하진 않음\n"
   ]
  },
  {
   "cell_type": "markdown",
   "id": "673ce36d",
   "metadata": {},
   "source": [
    "[예제]\n",
    "- 사이킷런의 BaseEstimator 클래스를 상속 후 학습 진행 x\n",
    "- Sex에 따라 생존자를 예측하는 단순한 Classifier 생성\n",
    "\n",
    "** 사이킷런의 BaseEstimator 상속\n",
    "-> Customized형태의 Estimator를 개발자가 생성할 수 있음"
   ]
  },
  {
   "cell_type": "code",
   "execution_count": 5,
   "id": "dcdea7a6",
   "metadata": {},
   "outputs": [
    {
     "name": "stdout",
     "output_type": "stream",
     "text": [
      "Dummy Clssifier의 정확도는: 0.7877\n"
     ]
    }
   ],
   "source": [
    "from sklearn.base import BaseEstimator\n",
    "import numpy as np\n",
    "import pandas as pd\n",
    "from sklearn.model_selection import train_test_split\n",
    "from sklearn.metrics import accuracy_score\n",
    "from sklearn.tree import DecisionTreeClassifier\n",
    "from sklearn.metrics import accuracy_score\n",
    "from sklearn.model_selection import KFold\n",
    "from sklearn.preprocessing import LabelEncoder\n",
    "from sklearn.model_selection import cross_val_score\n",
    "\n",
    "class MyDummyClassifier(BaseEstimator):\n",
    "    # fit() 메서드는 아무것도 학습하지 않음\n",
    "    def fit(self, x, y=None):\n",
    "        pass\n",
    "    \n",
    "    # predict() 메서드는 단순히 Sex 피처가 1이면 0, 그렇지 않으면 1로 예측함\n",
    "    def predict(self, x):\n",
    "        pred = np.zeros( (x.shape[0], 1) )\n",
    "        for i in range (x.shape[0]):\n",
    "            if x['Sex'].iloc[i]==1:\n",
    "                pred[i] = 0\n",
    "            else:\n",
    "                pred[i] = 1\n",
    "                \n",
    "        return pred.ravel()\n",
    "    \n",
    "\n",
    "# 원본 데이터를 재로딩, 데이터 가공, 학습 데이터/테스트 데이터 분할\n",
    "titanic_df = pd.read_csv('data_handling/titanic_train.csv')\n",
    "\n",
    "titanic_df['Age'] = titanic_df['Age'].fillna(titanic_df['Age'].mean())\n",
    "titanic_df['Cabin'] = titanic_df['Cabin'].fillna('N')\n",
    "titanic_df['Embarked'] = titanic_df['Embarked'].fillna('N')\n",
    "\n",
    "titanic_df['Cabin'] = titanic_df['Cabin'].str[:1]\n",
    "titanic_df.groupby(['Sex', 'Survived'])['Survived'].count()\n",
    "\n",
    "# Null 처리 함수\n",
    "def fillna(df):\n",
    "    df['Age'] = df['Age'].fillna(df['Age'].mean())\n",
    "    df['Cabin'] = df['Cabin'].fillna('N')\n",
    "    df['Embarked'] = df['Embarked'].fillna('N')\n",
    "    df['Fare'] = df['Fare'].fillna('N')\n",
    "    # df['Age'].fillna(df['Age'].mean(), inplace=True)\n",
    "    # df['Cabin'].fillna('N', inplace=True)\n",
    "    # df['Embarked'].fillna('N', inplace=True)\n",
    "    # df['Fare'].fillna('N', inplace=True)\n",
    "    return df\n",
    "\n",
    "# 머신러닝 알고즘 불필요한 피처 제거\n",
    "def drop_features(df):\n",
    "    df.drop(['PassengerId', 'Name', 'Ticket'], axis=1, inplace=True)\n",
    "    return df\n",
    "\n",
    "# 레이블 인코딩 수행\n",
    "def format_features(df):\n",
    "    df['Cabin'] = df['Cabin'].str[:1]\n",
    "    features = ['Cabin', 'Sex', 'Embarked']\n",
    "    for feature in features:\n",
    "        le = LabelEncoder()\n",
    "        le = le.fit(df[feature])\n",
    "        df[feature] = le.transform(df[feature])\n",
    "    return df\n",
    "\n",
    "# 앞에서 설정한 데이터 전처리 함수 호출\n",
    "def transform_features(df):\n",
    "    df = fillna(df)\n",
    "    df = drop_features(df)\n",
    "    df = format_features(df)\n",
    "    return df\n",
    "\n",
    "\n",
    "y_titanic_df = titanic_df['Survived']\n",
    "x_titanic_df = titanic_df.drop('Survived', axis=1)\n",
    "x_titanic_df = transform_features(x_titanic_df)\n",
    "x_train, x_test, y_train, y_test = train_test_split(x_titanic_df, y_titanic_df, test_size=0.2, random_state=0)\n",
    "\n",
    "myclf = MyDummyClassifier()\n",
    "myclf.fit(x_train, y_train)\n",
    "\n",
    "mypredictions = myclf.predict(x_test)\n",
    "print('Dummy Clssifier의 정확도는: {0:.4f}'.format(accuracy_score(y_test, mypredictions)))\n"
   ]
  },
  {
   "cell_type": "markdown",
   "id": "2a244087",
   "metadata": {},
   "source": [
    "** 정확도\n",
    "- 불균형한(imbalanced) 레이블 값 분포에서 ML 모델의 성능을 판단할 경우, 적합한 평가 지표가 아님"
   ]
  },
  {
   "cell_type": "markdown",
   "id": "5fd2c80a",
   "metadata": {},
   "source": [
    "** MNIST 데이터 세트 변환\n",
    " - 0 ~9 의 픽셀 장보\n",
    " - 숫자 Digit 예측에 사용\n",
    " - load_digits() "
   ]
  },
  {
   "cell_type": "code",
   "execution_count": 1,
   "id": "3ddf6135",
   "metadata": {},
   "outputs": [
    {
     "name": "stdout",
     "output_type": "stream",
     "text": [
      "레이블 테스트 세트 크기 : (450,)\n",
      "테스트 세트 레이블 0과 1의 분포도\n",
      "0    405\n",
      "1     45\n",
      "Name: count, dtype: int64\n",
      "모든 예측을 0으로 하여도 정확도는:0.900\n"
     ]
    }
   ],
   "source": [
    "from sklearn.datasets import load_digits\n",
    "from sklearn.model_selection import train_test_split\n",
    "from sklearn.base import BaseEstimator\n",
    "from sklearn.metrics import accuracy_score\n",
    "import numpy as np\n",
    "import pandas as pd\n",
    "\n",
    "class MyFakeClassifier(BaseEstimator):\n",
    "    def fit(self, x, y):\n",
    "        pass\n",
    "    \n",
    "    # 입력값으로 들어오는 x 데이터 세트의 크기만큼 모두 0값으로 만들어서 반환\n",
    "    def predict(self, x):\n",
    "        return np.zeros( (len(x), 1), dtype=bool )\n",
    "    \n",
    "# 사이킷런의 내장 데이터 세트인 load_digits()를 이용해 MNIST 데이터 로딩\n",
    "digits = load_digits()\n",
    "\n",
    "# digits 번호가 7번이면 True이고 이를 astype(int)로 1로 변환, 7번이 아니면 Falsedlrh 0dmfh qusghks\n",
    "y = (digits.target == 7).astype(int)\n",
    "x_train, x_test, y_train, y_test = train_test_split( digits.data, y, random_state=11 )\n",
    "\n",
    "# 불균형 데이터 생성 = y_test\n",
    "# 불균형한 레이블 데이터 분포도 확인\n",
    "print('레이블 테스트 세트 크기 :', y_test.shape)\n",
    "print('테스트 세트 레이블 0과 1의 분포도')\n",
    "print(pd.Series(y_test).value_counts())\n",
    "\n",
    "# MyFakeClassifier예측 진행\n",
    "# Dummy Classifier로 학습/예측/정확도 평가\n",
    "fakeclf = MyFakeClassifier()\n",
    "fakeclf.fit(x_train, y_train)\n",
    "fakepred = fakeclf.predict(x_test)\n",
    "print('모든 예측을 0으로 하여도 정확도는:{:.3f}'.format(accuracy_score(y_test, fakepred)))\n"
   ]
  }
 ],
 "metadata": {
  "kernelspec": {
   "display_name": "base",
   "language": "python",
   "name": "python3"
  },
  "language_info": {
   "codemirror_mode": {
    "name": "ipython",
    "version": 3
   },
   "file_extension": ".py",
   "mimetype": "text/x-python",
   "name": "python",
   "nbconvert_exporter": "python",
   "pygments_lexer": "ipython3",
   "version": "3.12.7"
  }
 },
 "nbformat": 4,
 "nbformat_minor": 5
}
