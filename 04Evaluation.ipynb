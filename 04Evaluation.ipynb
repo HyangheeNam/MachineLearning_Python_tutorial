{
 "cells": [
  {
   "cell_type": "markdown",
   "id": "08682f2c",
   "metadata": {},
   "source": [
    "<h1>Evaluation<h1>\n",
    "\n",
    "<h5>분류의 성능 평가 지표</h5>\n",
    "\n",
    "- 정확표(Accuracy)\n",
    "- 오차행렬(Confusion Matrix)\n",
    "- 정밀도(Precision)\n",
    "- 재현율(Recall)\n",
    "- F1 스코어\n",
    "- ROC AUC\n",
    "\n",
    "<br><br>\n",
    "\n",
    "<h3>4.1 정확도(Accuracy)</h3>\n",
    "<br><br>\n",
    "\n",
    "$$\n",
    "정확도(Accuracy) = \\frac{예측 결과가 동일한 데이터 건수}{\\text{전체 예측 데이터 건수}}\n",
    "$$\n",
    "\n",
    "<br><br>\n",
    "\n",
    "- 직관적으로 모델 예측 성능 평가 지표<br>\n",
    "    -> 실제 데이터에서 예측 데이터가 얼마나 같은지 판단하는 지표<br>\n",
    "    \n",
    "- 구성에 따라 ML 모델의 성능을 왜곡할 수 있으므로 정확도만 가지고 성능을 평가하진 않음\n"
   ]
  },
  {
   "cell_type": "markdown",
   "id": "673ce36d",
   "metadata": {},
   "source": [
    "[예제]\n",
    "- 사이킷런의 BaseEstimator 클래스를 상속 후 학습 진행 x\n",
    "- Sex에 따라 생존자를 예측하는 단순한 Classifier 생성\n",
    "\n",
    "** 사이킷런의 BaseEstimator 상속\n",
    "-> Customized형태의 Estimator를 개발자가 생성할 수 있음"
   ]
  },
  {
   "cell_type": "code",
   "execution_count": 1,
   "id": "dcdea7a6",
   "metadata": {},
   "outputs": [],
   "source": [
    "from sklearn.base import BaseEstimator\n",
    "import numpy as np\n",
    "\n",
    "class MyDummyClassifier(BaseEstimator):\n",
    "    # fit() 메서드는 아무것도 학습하지 않음\n",
    "    def fit(self, x, y=None):\n",
    "        pass\n",
    "    \n",
    "    # predict() 메서드는 단순히 Sex 피처가 1이면 0, 그렇지 않으면 1로 예측함\n",
    "    def predict(self, x):\n",
    "        pred = np.zeros( (x.shape[0], 1) )\n",
    "        for i in range (x.shape[0]):\n",
    "            if x['Sex'].iloc[i]==1:\n",
    "                pred[i] = 0\n",
    "            else:\n",
    "                pred[i] = 1\n",
    "                \n",
    "        return pred"
   ]
  },
  {
   "cell_type": "code",
   "execution_count": null,
   "id": "786b9e30",
   "metadata": {},
   "outputs": [],
   "source": []
  }
 ],
 "metadata": {
  "kernelspec": {
   "display_name": "base",
   "language": "python",
   "name": "python3"
  },
  "language_info": {
   "codemirror_mode": {
    "name": "ipython",
    "version": 3
   },
   "file_extension": ".py",
   "mimetype": "text/x-python",
   "name": "python",
   "nbconvert_exporter": "python",
   "pygments_lexer": "ipython3",
   "version": "3.12.7"
  }
 },
 "nbformat": 4,
 "nbformat_minor": 5
}
